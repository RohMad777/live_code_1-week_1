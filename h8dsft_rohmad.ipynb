{
 "cells": [
  {
   "cell_type": "markdown",
   "id": "5b9b48a1",
   "metadata": {},
   "source": [
    "# 1. Perkenalan"
   ]
  },
  {
   "cell_type": "markdown",
   "id": "49abaac4",
   "metadata": {},
   "source": [
    "<b>Nama: Rohmad </b>\n",
    "\n",
    "<b>Tanggal: </b>05/07/2021\n",
    "\n",
    "<b>Materi: </b>Live Code\n",
    "\n",
    "<b>Dataset:</b>Dataset dapat diakses pada link berikut: https://github.com/fahmimnalfrzki/Dataset/blob/main/NMC1-9.xlsx?raw=true\n",
    "\n",
    "time(s): Detik ke- pengukuran\n",
    "V_m: Voltage/tegangan yang terukur tiap waktu\n",
    "Current (A): Kuat arus terukur tiap waktu\n",
    "Cycle: Nomor siklus charge-discharge baterai\n",
    "Cap: Kapasitas baterai tiap waktu\n",
    "\n",
    "<b>Objective:</b>menghitung hambatan/resistansi dan Daya setiap detik"
   ]
  },
  {
   "cell_type": "code",
   "execution_count": 1,
   "id": "b7e99e4f",
   "metadata": {},
   "outputs": [
    {
     "name": "stdout",
     "output_type": "stream",
     "text": [
      "1.20.1\n",
      "1.2.4\n"
     ]
    }
   ],
   "source": [
    "#import library\n",
    "import numpy as np\n",
    "import pandas as pd\n",
    "print(np.__version__)\n",
    "print(pd.__version__)"
   ]
  },
  {
   "cell_type": "markdown",
   "id": "e687cff6",
   "metadata": {},
   "source": [
    "# Data Loading"
   ]
  },
  {
   "cell_type": "markdown",
   "id": "fc0922f3",
   "metadata": {},
   "source": [
    "Load data dan melihat data teratas"
   ]
  },
  {
   "cell_type": "code",
   "execution_count": 2,
   "id": "3be05002",
   "metadata": {},
   "outputs": [
    {
     "data": {
      "text/html": [
       "<div>\n",
       "<style scoped>\n",
       "    .dataframe tbody tr th:only-of-type {\n",
       "        vertical-align: middle;\n",
       "    }\n",
       "\n",
       "    .dataframe tbody tr th {\n",
       "        vertical-align: top;\n",
       "    }\n",
       "\n",
       "    .dataframe thead th {\n",
       "        text-align: right;\n",
       "    }\n",
       "</style>\n",
       "<table border=\"1\" class=\"dataframe\">\n",
       "  <thead>\n",
       "    <tr style=\"text-align: right;\">\n",
       "      <th></th>\n",
       "      <th>time(s)</th>\n",
       "      <th>V_m</th>\n",
       "      <th>Current (A)</th>\n",
       "      <th>Cycle</th>\n",
       "      <th>Cap</th>\n",
       "    </tr>\n",
       "  </thead>\n",
       "  <tbody>\n",
       "    <tr>\n",
       "      <th>0</th>\n",
       "      <td>0</td>\n",
       "      <td>4.098</td>\n",
       "      <td>0.997</td>\n",
       "      <td>1</td>\n",
       "      <td>2.840817</td>\n",
       "    </tr>\n",
       "    <tr>\n",
       "      <th>1</th>\n",
       "      <td>1</td>\n",
       "      <td>4.096</td>\n",
       "      <td>0.998</td>\n",
       "      <td>1</td>\n",
       "      <td>2.840817</td>\n",
       "    </tr>\n",
       "    <tr>\n",
       "      <th>2</th>\n",
       "      <td>2</td>\n",
       "      <td>4.094</td>\n",
       "      <td>0.999</td>\n",
       "      <td>1</td>\n",
       "      <td>2.840817</td>\n",
       "    </tr>\n",
       "    <tr>\n",
       "      <th>3</th>\n",
       "      <td>3</td>\n",
       "      <td>4.093</td>\n",
       "      <td>0.998</td>\n",
       "      <td>1</td>\n",
       "      <td>2.840817</td>\n",
       "    </tr>\n",
       "    <tr>\n",
       "      <th>4</th>\n",
       "      <td>4</td>\n",
       "      <td>4.092</td>\n",
       "      <td>0.999</td>\n",
       "      <td>1</td>\n",
       "      <td>2.840817</td>\n",
       "    </tr>\n",
       "  </tbody>\n",
       "</table>\n",
       "</div>"
      ],
      "text/plain": [
       "   time(s)    V_m  Current (A)  Cycle       Cap\n",
       "0        0  4.098        0.997      1  2.840817\n",
       "1        1  4.096        0.998      1  2.840817\n",
       "2        2  4.094        0.999      1  2.840817\n",
       "3        3  4.093        0.998      1  2.840817\n",
       "4        4  4.092        0.999      1  2.840817"
      ]
     },
     "execution_count": 2,
     "metadata": {},
     "output_type": "execute_result"
    }
   ],
   "source": [
    "df = pd.read_excel(\"NMC1-9.xlsx\")\n",
    "df.head() #melihat data teratas"
   ]
  },
  {
   "cell_type": "markdown",
   "id": "0739c90f",
   "metadata": {},
   "source": [
    "melihat 5 data terbawah"
   ]
  },
  {
   "cell_type": "code",
   "execution_count": 59,
   "id": "1ed3a9cc",
   "metadata": {},
   "outputs": [
    {
     "data": {
      "text/html": [
       "<div>\n",
       "<style scoped>\n",
       "    .dataframe tbody tr th:only-of-type {\n",
       "        vertical-align: middle;\n",
       "    }\n",
       "\n",
       "    .dataframe tbody tr th {\n",
       "        vertical-align: top;\n",
       "    }\n",
       "\n",
       "    .dataframe thead th {\n",
       "        text-align: right;\n",
       "    }\n",
       "</style>\n",
       "<table border=\"1\" class=\"dataframe\">\n",
       "  <thead>\n",
       "    <tr style=\"text-align: right;\">\n",
       "      <th></th>\n",
       "      <th>time(s)</th>\n",
       "      <th>V_m</th>\n",
       "      <th>Current (A)</th>\n",
       "      <th>Cycle</th>\n",
       "      <th>Cap</th>\n",
       "    </tr>\n",
       "  </thead>\n",
       "  <tbody>\n",
       "    <tr>\n",
       "      <th>90977</th>\n",
       "      <td>90977</td>\n",
       "      <td>2.506</td>\n",
       "      <td>1.002</td>\n",
       "      <td>9</td>\n",
       "      <td>2.77018</td>\n",
       "    </tr>\n",
       "    <tr>\n",
       "      <th>90978</th>\n",
       "      <td>90978</td>\n",
       "      <td>2.504</td>\n",
       "      <td>1.002</td>\n",
       "      <td>9</td>\n",
       "      <td>2.77018</td>\n",
       "    </tr>\n",
       "    <tr>\n",
       "      <th>90979</th>\n",
       "      <td>90979</td>\n",
       "      <td>2.502</td>\n",
       "      <td>1.002</td>\n",
       "      <td>9</td>\n",
       "      <td>2.77018</td>\n",
       "    </tr>\n",
       "    <tr>\n",
       "      <th>90980</th>\n",
       "      <td>90980</td>\n",
       "      <td>2.500</td>\n",
       "      <td>1.002</td>\n",
       "      <td>9</td>\n",
       "      <td>2.77018</td>\n",
       "    </tr>\n",
       "    <tr>\n",
       "      <th>90981</th>\n",
       "      <td>90981</td>\n",
       "      <td>2.497</td>\n",
       "      <td>1.002</td>\n",
       "      <td>9</td>\n",
       "      <td>2.77018</td>\n",
       "    </tr>\n",
       "  </tbody>\n",
       "</table>\n",
       "</div>"
      ],
      "text/plain": [
       "       time(s)    V_m  Current (A)  Cycle      Cap\n",
       "90977    90977  2.506        1.002      9  2.77018\n",
       "90978    90978  2.504        1.002      9  2.77018\n",
       "90979    90979  2.502        1.002      9  2.77018\n",
       "90980    90980  2.500        1.002      9  2.77018\n",
       "90981    90981  2.497        1.002      9  2.77018"
      ]
     },
     "execution_count": 59,
     "metadata": {},
     "output_type": "execute_result"
    }
   ],
   "source": [
    "df.tail() #melihat data terbawah"
   ]
  },
  {
   "cell_type": "markdown",
   "id": "c7413514",
   "metadata": {},
   "source": [
    "melihat tipe data yang ada di dataset"
   ]
  },
  {
   "cell_type": "code",
   "execution_count": 7,
   "id": "f3d90b1c",
   "metadata": {},
   "outputs": [
    {
     "name": "stdout",
     "output_type": "stream",
     "text": [
      "<class 'pandas.core.frame.DataFrame'>\n",
      "RangeIndex: 90982 entries, 0 to 90981\n",
      "Data columns (total 5 columns):\n",
      " #   Column       Non-Null Count  Dtype  \n",
      "---  ------       --------------  -----  \n",
      " 0   time(s)      90982 non-null  int64  \n",
      " 1   V_m          90982 non-null  float64\n",
      " 2   Current (A)  90982 non-null  float64\n",
      " 3   Cycle        90982 non-null  int64  \n",
      " 4   Cap          90982 non-null  float64\n",
      "dtypes: float64(3), int64(2)\n",
      "memory usage: 3.5 MB\n"
     ]
    }
   ],
   "source": [
    "df.info() #melihat jenis tipe data"
   ]
  },
  {
   "cell_type": "markdown",
   "id": "1bd2586b",
   "metadata": {},
   "source": [
    "mnegecek presentase yang ada didataset"
   ]
  },
  {
   "cell_type": "code",
   "execution_count": 12,
   "id": "f577562a",
   "metadata": {},
   "outputs": [
    {
     "data": {
      "text/plain": [
       "time(s)        0.0\n",
       "V_m            0.0\n",
       "Current (A)    0.0\n",
       "Cycle          0.0\n",
       "Cap            0.0\n",
       "dtype: float64"
      ]
     },
     "execution_count": 12,
     "metadata": {},
     "output_type": "execute_result"
    }
   ],
   "source": [
    "df.isna().mean() #melihat presentase null"
   ]
  },
  {
   "cell_type": "markdown",
   "id": "976c59ad",
   "metadata": {},
   "source": [
    "melihat jumlah yang ada di dataset"
   ]
  },
  {
   "cell_type": "code",
   "execution_count": 13,
   "id": "5ef48331",
   "metadata": {},
   "outputs": [
    {
     "data": {
      "text/plain": [
       "time(s)        0\n",
       "V_m            0\n",
       "Current (A)    0\n",
       "Cycle          0\n",
       "Cap            0\n",
       "dtype: int64"
      ]
     },
     "execution_count": 13,
     "metadata": {},
     "output_type": "execute_result"
    }
   ],
   "source": [
    "df.isnull().sum() #melihat jika ada value yang null"
   ]
  },
  {
   "cell_type": "markdown",
   "id": "b3b34a5e",
   "metadata": {},
   "source": [
    "melihat summary keseluruhan di dataset"
   ]
  },
  {
   "cell_type": "code",
   "execution_count": 8,
   "id": "519e3c53",
   "metadata": {},
   "outputs": [
    {
     "data": {
      "text/html": [
       "<div>\n",
       "<style scoped>\n",
       "    .dataframe tbody tr th:only-of-type {\n",
       "        vertical-align: middle;\n",
       "    }\n",
       "\n",
       "    .dataframe tbody tr th {\n",
       "        vertical-align: top;\n",
       "    }\n",
       "\n",
       "    .dataframe thead th {\n",
       "        text-align: right;\n",
       "    }\n",
       "</style>\n",
       "<table border=\"1\" class=\"dataframe\">\n",
       "  <thead>\n",
       "    <tr style=\"text-align: right;\">\n",
       "      <th></th>\n",
       "      <th>time(s)</th>\n",
       "      <th>V_m</th>\n",
       "      <th>Current (A)</th>\n",
       "      <th>Cycle</th>\n",
       "      <th>Cap</th>\n",
       "    </tr>\n",
       "  </thead>\n",
       "  <tbody>\n",
       "    <tr>\n",
       "      <th>count</th>\n",
       "      <td>90982.000000</td>\n",
       "      <td>90982.000000</td>\n",
       "      <td>90982.000000</td>\n",
       "      <td>90982.000000</td>\n",
       "      <td>90982.000000</td>\n",
       "    </tr>\n",
       "    <tr>\n",
       "      <th>mean</th>\n",
       "      <td>45490.500000</td>\n",
       "      <td>3.607666</td>\n",
       "      <td>0.999264</td>\n",
       "      <td>4.978699</td>\n",
       "      <td>2.806214</td>\n",
       "    </tr>\n",
       "    <tr>\n",
       "      <th>std</th>\n",
       "      <td>26264.385433</td>\n",
       "      <td>0.322777</td>\n",
       "      <td>0.001997</td>\n",
       "      <td>2.582135</td>\n",
       "      <td>0.023283</td>\n",
       "    </tr>\n",
       "    <tr>\n",
       "      <th>min</th>\n",
       "      <td>0.000000</td>\n",
       "      <td>2.497000</td>\n",
       "      <td>0.993000</td>\n",
       "      <td>1.000000</td>\n",
       "      <td>2.770180</td>\n",
       "    </tr>\n",
       "    <tr>\n",
       "      <th>25%</th>\n",
       "      <td>22745.250000</td>\n",
       "      <td>3.422000</td>\n",
       "      <td>0.997000</td>\n",
       "      <td>3.000000</td>\n",
       "      <td>2.786860</td>\n",
       "    </tr>\n",
       "    <tr>\n",
       "      <th>50%</th>\n",
       "      <td>45490.500000</td>\n",
       "      <td>3.636000</td>\n",
       "      <td>0.999000</td>\n",
       "      <td>5.000000</td>\n",
       "      <td>2.804878</td>\n",
       "    </tr>\n",
       "    <tr>\n",
       "      <th>75%</th>\n",
       "      <td>68235.750000</td>\n",
       "      <td>3.868000</td>\n",
       "      <td>1.001000</td>\n",
       "      <td>7.000000</td>\n",
       "      <td>2.823520</td>\n",
       "    </tr>\n",
       "    <tr>\n",
       "      <th>max</th>\n",
       "      <td>90981.000000</td>\n",
       "      <td>4.114000</td>\n",
       "      <td>1.003000</td>\n",
       "      <td>9.000000</td>\n",
       "      <td>2.840817</td>\n",
       "    </tr>\n",
       "  </tbody>\n",
       "</table>\n",
       "</div>"
      ],
      "text/plain": [
       "            time(s)           V_m   Current (A)         Cycle           Cap\n",
       "count  90982.000000  90982.000000  90982.000000  90982.000000  90982.000000\n",
       "mean   45490.500000      3.607666      0.999264      4.978699      2.806214\n",
       "std    26264.385433      0.322777      0.001997      2.582135      0.023283\n",
       "min        0.000000      2.497000      0.993000      1.000000      2.770180\n",
       "25%    22745.250000      3.422000      0.997000      3.000000      2.786860\n",
       "50%    45490.500000      3.636000      0.999000      5.000000      2.804878\n",
       "75%    68235.750000      3.868000      1.001000      7.000000      2.823520\n",
       "max    90981.000000      4.114000      1.003000      9.000000      2.840817"
      ]
     },
     "execution_count": 8,
     "metadata": {},
     "output_type": "execute_result"
    }
   ],
   "source": [
    "df.describe() #melihat value dari dataset"
   ]
  },
  {
   "cell_type": "markdown",
   "id": "1db92626",
   "metadata": {},
   "source": [
    "merubah nama kolom"
   ]
  },
  {
   "cell_type": "code",
   "execution_count": 3,
   "id": "0c01c411",
   "metadata": {},
   "outputs": [
    {
     "data": {
      "text/html": [
       "<div>\n",
       "<style scoped>\n",
       "    .dataframe tbody tr th:only-of-type {\n",
       "        vertical-align: middle;\n",
       "    }\n",
       "\n",
       "    .dataframe tbody tr th {\n",
       "        vertical-align: top;\n",
       "    }\n",
       "\n",
       "    .dataframe thead th {\n",
       "        text-align: right;\n",
       "    }\n",
       "</style>\n",
       "<table border=\"1\" class=\"dataframe\">\n",
       "  <thead>\n",
       "    <tr style=\"text-align: right;\">\n",
       "      <th></th>\n",
       "      <th>time</th>\n",
       "      <th>volt</th>\n",
       "      <th>arus</th>\n",
       "      <th>siklus</th>\n",
       "      <th>Cap</th>\n",
       "    </tr>\n",
       "  </thead>\n",
       "  <tbody>\n",
       "    <tr>\n",
       "      <th>0</th>\n",
       "      <td>0</td>\n",
       "      <td>4.098</td>\n",
       "      <td>0.997</td>\n",
       "      <td>1</td>\n",
       "      <td>2.840817</td>\n",
       "    </tr>\n",
       "    <tr>\n",
       "      <th>1</th>\n",
       "      <td>1</td>\n",
       "      <td>4.096</td>\n",
       "      <td>0.998</td>\n",
       "      <td>1</td>\n",
       "      <td>2.840817</td>\n",
       "    </tr>\n",
       "    <tr>\n",
       "      <th>2</th>\n",
       "      <td>2</td>\n",
       "      <td>4.094</td>\n",
       "      <td>0.999</td>\n",
       "      <td>1</td>\n",
       "      <td>2.840817</td>\n",
       "    </tr>\n",
       "    <tr>\n",
       "      <th>3</th>\n",
       "      <td>3</td>\n",
       "      <td>4.093</td>\n",
       "      <td>0.998</td>\n",
       "      <td>1</td>\n",
       "      <td>2.840817</td>\n",
       "    </tr>\n",
       "    <tr>\n",
       "      <th>4</th>\n",
       "      <td>4</td>\n",
       "      <td>4.092</td>\n",
       "      <td>0.999</td>\n",
       "      <td>1</td>\n",
       "      <td>2.840817</td>\n",
       "    </tr>\n",
       "    <tr>\n",
       "      <th>...</th>\n",
       "      <td>...</td>\n",
       "      <td>...</td>\n",
       "      <td>...</td>\n",
       "      <td>...</td>\n",
       "      <td>...</td>\n",
       "    </tr>\n",
       "    <tr>\n",
       "      <th>90977</th>\n",
       "      <td>90977</td>\n",
       "      <td>2.506</td>\n",
       "      <td>1.002</td>\n",
       "      <td>9</td>\n",
       "      <td>2.770180</td>\n",
       "    </tr>\n",
       "    <tr>\n",
       "      <th>90978</th>\n",
       "      <td>90978</td>\n",
       "      <td>2.504</td>\n",
       "      <td>1.002</td>\n",
       "      <td>9</td>\n",
       "      <td>2.770180</td>\n",
       "    </tr>\n",
       "    <tr>\n",
       "      <th>90979</th>\n",
       "      <td>90979</td>\n",
       "      <td>2.502</td>\n",
       "      <td>1.002</td>\n",
       "      <td>9</td>\n",
       "      <td>2.770180</td>\n",
       "    </tr>\n",
       "    <tr>\n",
       "      <th>90980</th>\n",
       "      <td>90980</td>\n",
       "      <td>2.500</td>\n",
       "      <td>1.002</td>\n",
       "      <td>9</td>\n",
       "      <td>2.770180</td>\n",
       "    </tr>\n",
       "    <tr>\n",
       "      <th>90981</th>\n",
       "      <td>90981</td>\n",
       "      <td>2.497</td>\n",
       "      <td>1.002</td>\n",
       "      <td>9</td>\n",
       "      <td>2.770180</td>\n",
       "    </tr>\n",
       "  </tbody>\n",
       "</table>\n",
       "<p>90982 rows × 5 columns</p>\n",
       "</div>"
      ],
      "text/plain": [
       "        time   volt   arus  siklus       Cap\n",
       "0          0  4.098  0.997       1  2.840817\n",
       "1          1  4.096  0.998       1  2.840817\n",
       "2          2  4.094  0.999       1  2.840817\n",
       "3          3  4.093  0.998       1  2.840817\n",
       "4          4  4.092  0.999       1  2.840817\n",
       "...      ...    ...    ...     ...       ...\n",
       "90977  90977  2.506  1.002       9  2.770180\n",
       "90978  90978  2.504  1.002       9  2.770180\n",
       "90979  90979  2.502  1.002       9  2.770180\n",
       "90980  90980  2.500  1.002       9  2.770180\n",
       "90981  90981  2.497  1.002       9  2.770180\n",
       "\n",
       "[90982 rows x 5 columns]"
      ]
     },
     "execution_count": 3,
     "metadata": {},
     "output_type": "execute_result"
    }
   ],
   "source": [
    "df.rename(columns={\n",
    "    'time(s)': 'time',\n",
    "    'V_m': 'volt',\n",
    "    'Current (A)': 'arus',\n",
    "    'Cycle': 'siklus'\n",
    "}, inplace=True)\n",
    "df"
   ]
  },
  {
   "cell_type": "markdown",
   "id": "10102ff4",
   "metadata": {},
   "source": [
    "Menghitung hambatan"
   ]
  },
  {
   "cell_type": "code",
   "execution_count": 6,
   "id": "8e6b1862",
   "metadata": {},
   "outputs": [],
   "source": [
    "def R(V, I):\n",
    "    return(V/I)"
   ]
  },
  {
   "cell_type": "markdown",
   "id": "20aa8148",
   "metadata": {},
   "source": [
    "Menghitung Daya"
   ]
  },
  {
   "cell_type": "code",
   "execution_count": 7,
   "id": "24631eef",
   "metadata": {},
   "outputs": [],
   "source": [
    "def P(V,I):\n",
    "    return(V*I)"
   ]
  },
  {
   "cell_type": "markdown",
   "id": "78c4462d",
   "metadata": {},
   "source": [
    "Harus menerapkan konsep looping, conditional if"
   ]
  },
  {
   "cell_type": "code",
   "execution_count": 13,
   "id": "927c8505",
   "metadata": {
    "scrolled": true
   },
   "outputs": [],
   "source": [
    "\n",
    "#def batteray():\n",
    "#    for siklus in df:\n",
    "#        if siklus % 2 != 0 :\n",
    "#            return(volt/arus)\n",
    "#        elif siklus % 2 == 0:\n",
    "#            return(volt*arus)\n",
    "#batteray()\n"
   ]
  },
  {
   "cell_type": "markdown",
   "id": "4331d0e5",
   "metadata": {},
   "source": [
    "# Pandas Query"
   ]
  },
  {
   "cell_type": "markdown",
   "id": "f8ede786",
   "metadata": {},
   "source": [
    "melihat voltase dengan kondisi di atas 1.000"
   ]
  },
  {
   "cell_type": "code",
   "execution_count": 47,
   "id": "8e781936",
   "metadata": {},
   "outputs": [
    {
     "data": {
      "text/html": [
       "<div>\n",
       "<style scoped>\n",
       "    .dataframe tbody tr th:only-of-type {\n",
       "        vertical-align: middle;\n",
       "    }\n",
       "\n",
       "    .dataframe tbody tr th {\n",
       "        vertical-align: top;\n",
       "    }\n",
       "\n",
       "    .dataframe thead th {\n",
       "        text-align: right;\n",
       "    }\n",
       "</style>\n",
       "<table border=\"1\" class=\"dataframe\">\n",
       "  <thead>\n",
       "    <tr style=\"text-align: right;\">\n",
       "      <th></th>\n",
       "      <th>time</th>\n",
       "      <th>volt</th>\n",
       "      <th>arus</th>\n",
       "      <th>siklus</th>\n",
       "      <th>Cap</th>\n",
       "    </tr>\n",
       "  </thead>\n",
       "  <tbody>\n",
       "    <tr>\n",
       "      <th>0</th>\n",
       "      <td>0</td>\n",
       "      <td>4.098</td>\n",
       "      <td>0.997</td>\n",
       "      <td>1</td>\n",
       "      <td>2.840817</td>\n",
       "    </tr>\n",
       "    <tr>\n",
       "      <th>1</th>\n",
       "      <td>1</td>\n",
       "      <td>4.096</td>\n",
       "      <td>0.998</td>\n",
       "      <td>1</td>\n",
       "      <td>2.840817</td>\n",
       "    </tr>\n",
       "    <tr>\n",
       "      <th>2</th>\n",
       "      <td>2</td>\n",
       "      <td>4.094</td>\n",
       "      <td>0.999</td>\n",
       "      <td>1</td>\n",
       "      <td>2.840817</td>\n",
       "    </tr>\n",
       "    <tr>\n",
       "      <th>3</th>\n",
       "      <td>3</td>\n",
       "      <td>4.093</td>\n",
       "      <td>0.998</td>\n",
       "      <td>1</td>\n",
       "      <td>2.840817</td>\n",
       "    </tr>\n",
       "    <tr>\n",
       "      <th>4</th>\n",
       "      <td>4</td>\n",
       "      <td>4.092</td>\n",
       "      <td>0.999</td>\n",
       "      <td>1</td>\n",
       "      <td>2.840817</td>\n",
       "    </tr>\n",
       "    <tr>\n",
       "      <th>...</th>\n",
       "      <td>...</td>\n",
       "      <td>...</td>\n",
       "      <td>...</td>\n",
       "      <td>...</td>\n",
       "      <td>...</td>\n",
       "    </tr>\n",
       "    <tr>\n",
       "      <th>90977</th>\n",
       "      <td>90977</td>\n",
       "      <td>2.506</td>\n",
       "      <td>1.002</td>\n",
       "      <td>9</td>\n",
       "      <td>2.770180</td>\n",
       "    </tr>\n",
       "    <tr>\n",
       "      <th>90978</th>\n",
       "      <td>90978</td>\n",
       "      <td>2.504</td>\n",
       "      <td>1.002</td>\n",
       "      <td>9</td>\n",
       "      <td>2.770180</td>\n",
       "    </tr>\n",
       "    <tr>\n",
       "      <th>90979</th>\n",
       "      <td>90979</td>\n",
       "      <td>2.502</td>\n",
       "      <td>1.002</td>\n",
       "      <td>9</td>\n",
       "      <td>2.770180</td>\n",
       "    </tr>\n",
       "    <tr>\n",
       "      <th>90980</th>\n",
       "      <td>90980</td>\n",
       "      <td>2.500</td>\n",
       "      <td>1.002</td>\n",
       "      <td>9</td>\n",
       "      <td>2.770180</td>\n",
       "    </tr>\n",
       "    <tr>\n",
       "      <th>90981</th>\n",
       "      <td>90981</td>\n",
       "      <td>2.497</td>\n",
       "      <td>1.002</td>\n",
       "      <td>9</td>\n",
       "      <td>2.770180</td>\n",
       "    </tr>\n",
       "  </tbody>\n",
       "</table>\n",
       "<p>90982 rows × 5 columns</p>\n",
       "</div>"
      ],
      "text/plain": [
       "        time   volt   arus  siklus       Cap\n",
       "0          0  4.098  0.997       1  2.840817\n",
       "1          1  4.096  0.998       1  2.840817\n",
       "2          2  4.094  0.999       1  2.840817\n",
       "3          3  4.093  0.998       1  2.840817\n",
       "4          4  4.092  0.999       1  2.840817\n",
       "...      ...    ...    ...     ...       ...\n",
       "90977  90977  2.506  1.002       9  2.770180\n",
       "90978  90978  2.504  1.002       9  2.770180\n",
       "90979  90979  2.502  1.002       9  2.770180\n",
       "90980  90980  2.500  1.002       9  2.770180\n",
       "90981  90981  2.497  1.002       9  2.770180\n",
       "\n",
       "[90982 rows x 5 columns]"
      ]
     },
     "execution_count": 47,
     "metadata": {},
     "output_type": "execute_result"
    }
   ],
   "source": [
    "voltase = df[df['volt'] > 1.000] #melihat volatase dengan kondisi di atas 1.000\n",
    "voltase"
   ]
  },
  {
   "cell_type": "markdown",
   "id": "167a91a2",
   "metadata": {},
   "source": [
    "melihat volatase dengan kondisi volatase = 4.096 dan kuat arus = 0.998 dan siklus = 7"
   ]
  },
  {
   "cell_type": "code",
   "execution_count": 48,
   "id": "489909a8",
   "metadata": {},
   "outputs": [
    {
     "data": {
      "text/html": [
       "<div>\n",
       "<style scoped>\n",
       "    .dataframe tbody tr th:only-of-type {\n",
       "        vertical-align: middle;\n",
       "    }\n",
       "\n",
       "    .dataframe tbody tr th {\n",
       "        vertical-align: top;\n",
       "    }\n",
       "\n",
       "    .dataframe thead th {\n",
       "        text-align: right;\n",
       "    }\n",
       "</style>\n",
       "<table border=\"1\" class=\"dataframe\">\n",
       "  <thead>\n",
       "    <tr style=\"text-align: right;\">\n",
       "      <th></th>\n",
       "      <th>time</th>\n",
       "      <th>volt</th>\n",
       "      <th>arus</th>\n",
       "      <th>siklus</th>\n",
       "      <th>Cap</th>\n",
       "    </tr>\n",
       "  </thead>\n",
       "  <tbody>\n",
       "    <tr>\n",
       "      <th>60951</th>\n",
       "      <td>60951</td>\n",
       "      <td>4.096</td>\n",
       "      <td>1.0</td>\n",
       "      <td>7</td>\n",
       "      <td>2.78686</td>\n",
       "    </tr>\n",
       "    <tr>\n",
       "      <th>60952</th>\n",
       "      <td>60952</td>\n",
       "      <td>4.096</td>\n",
       "      <td>1.0</td>\n",
       "      <td>7</td>\n",
       "      <td>2.78686</td>\n",
       "    </tr>\n",
       "  </tbody>\n",
       "</table>\n",
       "</div>"
      ],
      "text/plain": [
       "        time   volt  arus  siklus      Cap\n",
       "60951  60951  4.096   1.0       7  2.78686\n",
       "60952  60952  4.096   1.0       7  2.78686"
      ]
     },
     "execution_count": 48,
     "metadata": {},
     "output_type": "execute_result"
    }
   ],
   "source": [
    "df[\n",
    "    (df['volt'] == 4.096) &\n",
    "    (df['arus'] > 0.998) &\n",
    "    (df['siklus'] == 7)\n",
    "]"
   ]
  },
  {
   "cell_type": "markdown",
   "id": "5cbab712",
   "metadata": {},
   "source": [
    "# Hasil Akhir"
   ]
  },
  {
   "cell_type": "markdown",
   "id": "55063ed0",
   "metadata": {},
   "source": [
    "1. Hambatan yang diperoleh dengan sample Volt:2.506 dan Arus:1.002 adalah 5009980039920157\n",
    "\n",
    "  Daya yang diperoleh dengan sample Volt:2.506 dan Arus:1.002 adalah 5110119999999996"
   ]
  },
  {
   "cell_type": "code",
   "execution_count": 8,
   "id": "7af2672f",
   "metadata": {},
   "outputs": [],
   "source": [
    "hamabatan =[]\n",
    "power=[]\n",
    "for x in df.siklus.unique():\n",
    "    V=df['volt'][df['siklus'] == x]\n",
    "    I=df['arus'][df['siklus'] == x]\n",
    "    if x % 2 != 0:\n",
    "        hamabatan.append(R(V,I))\n",
    "    else:\n",
    "        power.append(P(V,I))"
   ]
  },
  {
   "cell_type": "code",
   "execution_count": 9,
   "id": "cc4e8377",
   "metadata": {},
   "outputs": [
    {
     "data": {
      "text/plain": [
       "[0        4.110331\n",
       " 1        4.104208\n",
       " 2        4.098098\n",
       " 3        4.101202\n",
       " 4        4.096096\n",
       "            ...   \n",
       " 10232    2.513541\n",
       " 10233    2.511535\n",
       " 10234    2.509529\n",
       " 10235    2.510040\n",
       " 10236    2.505517\n",
       " Length: 10237, dtype: float64,\n",
       " 20443    4.123370\n",
       " 20444    4.118236\n",
       " 20445    4.116232\n",
       " 20446    4.119358\n",
       " 20447    4.114228\n",
       "            ...   \n",
       " 30613    2.504496\n",
       " 30614    2.500000\n",
       " 30615    2.498004\n",
       " 30616    2.498501\n",
       " 30617    2.501502\n",
       " Length: 10175, dtype: float64,\n",
       " 40776    4.124373\n",
       " 40777    4.114114\n",
       " 40778    4.117234\n",
       " 40779    4.112112\n",
       " 40780    4.107000\n",
       "            ...   \n",
       " 50878    2.514544\n",
       " 50879    2.510020\n",
       " 50880    2.510532\n",
       " 50881    2.506012\n",
       " 50882    2.504008\n",
       " Length: 10107, dtype: float64,\n",
       " 60933    4.130653\n",
       " 60934    4.129648\n",
       " 60935    4.119358\n",
       " 60936    4.118355\n",
       " 60937    4.113226\n",
       "            ...   \n",
       " 70969    2.501996\n",
       " 70970    2.501499\n",
       " 70971    2.502000\n",
       " 70972    2.502503\n",
       " 70973    2.503006\n",
       " Length: 10041, dtype: float64,\n",
       " 81002    4.115115\n",
       " 81003    4.110000\n",
       " 81004    4.109000\n",
       " 81005    4.102897\n",
       " 81006    4.101898\n",
       "            ...   \n",
       " 90977    2.500998\n",
       " 90978    2.499002\n",
       " 90979    2.497006\n",
       " 90980    2.495010\n",
       " 90981    2.492016\n",
       " Length: 9980, dtype: float64]"
      ]
     },
     "execution_count": 9,
     "metadata": {},
     "output_type": "execute_result"
    }
   ],
   "source": [
    "hamabatan"
   ]
  },
  {
   "cell_type": "code",
   "execution_count": null,
   "id": "b98c7b5c",
   "metadata": {},
   "outputs": [],
   "source": []
  }
 ],
 "metadata": {
  "kernelspec": {
   "display_name": "Python 3",
   "language": "python",
   "name": "python3"
  },
  "language_info": {
   "codemirror_mode": {
    "name": "ipython",
    "version": 3
   },
   "file_extension": ".py",
   "mimetype": "text/x-python",
   "name": "python",
   "nbconvert_exporter": "python",
   "pygments_lexer": "ipython3",
   "version": "3.8.8"
  }
 },
 "nbformat": 4,
 "nbformat_minor": 5
}
